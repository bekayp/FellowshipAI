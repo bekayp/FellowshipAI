{
 "cells": [
  {
   "cell_type": "markdown",
   "metadata": {},
   "source": [
    "# AI Challenge - Apply a supervised or semi-supervised ULMFiT model to Twitter US Airlines Sentiment \n",
    "## Prepared by - Bobby K Pappachan"
   ]
  },
  {
   "cell_type": "markdown",
   "metadata": {},
   "source": [
    "**Objective :  Apply a supervised or semi-supervised ULMFiT model to Twitter US Airlines Sentiment**\n",
    "\n",
    "Steps Used \n",
    "1. Import Packages and predefined fns #Step1\n",
    "2. Data wrangling and cleaning #Step2\n",
    "3. Language Model Training #Step3\n",
    "4. Sentiment Model Classsification #Step4"
   ]
  },
  {
   "cell_type": "code",
   "execution_count": 1,
   "metadata": {},
   "outputs": [],
   "source": [
    "#Step1 \n",
    "\n",
    "from fastai import *\n",
    "from fastai.text import *\n",
    "import seaborn as sns\n",
    "\n",
    "#function to replace twitter handle \n",
    "def replaceHandle(text):\n",
    "    \"Remove twitter handle\"\n",
    "    text = re.sub('@[^\\s]+','',text)\n",
    "    return text\n",
    "\n",
    "#function to replace empty spaces\n",
    "def replace_useless_space(text):\n",
    "    \"Remove useless space\"\n",
    "    text = re.sub(' {2,}','',text)\n",
    "    return text\n",
    "\n",
    "#function to replace hashtags\n",
    "def replace_hasht(text):\n",
    "    \"Replace hast with space\"\n",
    "    text = re.sub(r'([#])', r' \\1 ', text)\n",
    "    return text\n"
   ]
  },
  {
   "cell_type": "markdown",
   "metadata": {},
   "source": [
    "**Data Wrangling**"
   ]
  },
  {
   "cell_type": "code",
   "execution_count": 2,
   "metadata": {},
   "outputs": [],
   "source": [
    "#Step 2 Data wrangling\n",
    "df_master = pd.read_csv('Tweets.csv')\n",
    "df_airline = df_master[['airline_sentiment','text']].rename(columns={\"airline_sentiment\":'label'})\n",
    "\n",
    "path=\"\""
   ]
  },
  {
   "cell_type": "markdown",
   "metadata": {},
   "source": [
    "**Visualisation** :\n",
    "Total sentiment tweet breakdown by airline"
   ]
  },
  {
   "cell_type": "code",
   "execution_count": 3,
   "metadata": {},
   "outputs": [
    {
     "data": {
      "text/plain": [
       "airline\n",
       "American          2759\n",
       "Delta             2222\n",
       "Southwest         2420\n",
       "US Airways        2913\n",
       "United            3822\n",
       "Virgin America     504\n",
       "Name: tweet_id, dtype: int64"
      ]
     },
     "execution_count": 3,
     "metadata": {},
     "output_type": "execute_result"
    },
    {
     "data": {
      "image/png": "[encoded data removed]",
      "text/plain": [
       "<Figure size 432x288 with 1 Axes>"
      ]
     },
     "metadata": {
      "needs_background": "light"
     },
     "output_type": "display_data"
    }
   ],
   "source": [
    "#Visualising sentiment count of each airline\n",
    "total_tweets = df_master.groupby(['airline'])['tweet_id'].count()\n",
    "ax = df_master.groupby(['airline','airline_sentiment'])['tweet_id'].count().plot.barh(rot=0)\n",
    "total_tweets"
   ]
  },
  {
   "cell_type": "markdown",
   "metadata": {},
   "source": [
    "**Data Cleaning** : Replacing redundancies"
   ]
  },
  {
   "cell_type": "code",
   "execution_count": 4,
   "metadata": {},
   "outputs": [],
   "source": [
    "#Preparing Language Model and Classification Dataset\n",
    "df=df_airline\n",
    "\n",
    "#Data cleaning\n",
    "df_text = df.text.apply(replaceHandle)\n",
    "df.text = df.text.apply(replace_hasht)\n",
    "df.text = df.text.apply(replace_useless_space)\n",
    "\n",
    "valid_df = df.sample(frac=0.2) # validation set\n",
    "train_df = df.drop(valid_df.index) # training set\n",
    "\n",
    "#End of Step2"
   ]
  },
  {
   "cell_type": "markdown",
   "metadata": {},
   "source": [
    "**Step 3 Model Training**"
   ]
  },
  {
   "cell_type": "code",
   "execution_count": 5,
   "metadata": {},
   "outputs": [
    {
     "data": {
      "text/html": [],
      "text/plain": [
       "<IPython.core.display.HTML object>"
      ]
     },
     "metadata": {},
     "output_type": "display_data"
    },
    {
     "data": {
      "text/html": [],
      "text/plain": [
       "<IPython.core.display.HTML object>"
      ]
     },
     "metadata": {},
     "output_type": "display_data"
    },
    {
     "data": {
      "text/html": [],
      "text/plain": [
       "<IPython.core.display.HTML object>"
      ]
     },
     "metadata": {},
     "output_type": "display_data"
    },
    {
     "data": {
      "text/html": [],
      "text/plain": [
       "<IPython.core.display.HTML object>"
      ]
     },
     "metadata": {},
     "output_type": "display_data"
    },
    {
     "data": {
      "text/html": [
       "<table border=\"1\" class=\"dataframe\">\n",
       "  <thead>\n",
       "    <tr style=\"text-align: right;\">\n",
       "      <th>idx</th>\n",
       "      <th>text</th>\n",
       "    </tr>\n",
       "  </thead>\n",
       "  <tbody>\n",
       "    <tr>\n",
       "      <td>0</td>\n",
       "      <td>about it xxbos @virginamerica seriously would pay $ 30 a flight for seats that did n't have this playing . \\n  it 's really the only bad thing about flying xxup va xxbos @virginamerica yes , nearly every time i fly xxup vx this “ xxunk xxunk ” wo n’t go away :) xxbos @virginamerica xxmaj really missed a prime opportunity for xxmaj men xxmaj without xxmaj hats xxunk</td>\n",
       "    </tr>\n",
       "    <tr>\n",
       "      <td>1</td>\n",
       "      <td>&amp; for helping me get all my travel sorted out ! xxbos @virginamerica thanks guys ! xxmaj sweet route over the xxmaj xxunk # xxunk xxbos @virginamerica love the xxunk music blasting at gate in # xxmaj boston while waiting for flight to # sanfrancisco . xxmaj only if i could get an iced coffee ! xxbos @virginamerica - the passenger in xxup xxunk , xxmaj flt xxunk that assaulted</td>\n",
       "    </tr>\n",
       "    <tr>\n",
       "      <td>2</td>\n",
       "      <td>flightled flight was useless to my xxunk 's trip . xxbos @united xxmaj delayed due to lack of crew and now delayed again because there 's a long line for deicing ... xxmaj still need to improve service # united xxbos @united xxmaj your xxup eri - xxup ord express connections are xxunk popular .. now if only we could have an xxup eri - xxup ewr hop ! :)</td>\n",
       "    </tr>\n",
       "    <tr>\n",
       "      <td>3</td>\n",
       "      <td>xxmaj please share details w / our xxmaj customer xxmaj care team http : / / t.co / xxunk xxbos @united no xxmaj cancelled xxmaj xxunk just left us to xxunk for ourselves when flt came in xxmaj late xxmaj flight . xxmaj getting runaround for 3 hrs . xxmaj each employee xxunk 1 . xxbos @united xxmaj this is xxup not a local xxup united number for xxmaj xxunk</td>\n",
       "    </tr>\n",
       "    <tr>\n",
       "      <td>4</td>\n",
       "      <td>xxbos @united xxmaj my favorite way to travel ! xxmaj thank you ! http : / / t.co / xxunk xxbos @united yes , after this awful weather it appears i can get home xxbos @united yes lots . xxmaj you have terrible customer service at xxmaj newark and despite raising a complaint there we were ignored hence the tweet xxbos @united xxmaj lovely new plane from xxup lga to</td>\n",
       "    </tr>\n",
       "  </tbody>\n",
       "</table>"
      ],
      "text/plain": [
       "<IPython.core.display.HTML object>"
      ]
     },
     "metadata": {},
     "output_type": "display_data"
    }
   ],
   "source": [
    "#Data Preparation \n",
    "data_lm = TextLMDataBunch.from_df(train_df=train_df, \n",
    "                                  valid_df=valid_df, path=path)\n",
    "\n",
    "#Classifier model data \n",
    "data_clas = TextClasDataBunch.from_df(path=path, \n",
    "                                      train_df=train_df, #training data \n",
    "                                      valid_df=valid_df, #validation data\n",
    "                                      vocab=data_lm.train_ds.vocab, #built in data vocabulary\n",
    "                                      bs=40) #batch size\n",
    "data_lm.show_batch()"
   ]
  },
  {
   "cell_type": "code",
   "execution_count": 6,
   "metadata": {},
   "outputs": [
    {
     "data": {
      "text/html": [
       "<table border=\"1\" class=\"dataframe\">\n",
       "  <thead>\n",
       "    <tr style=\"text-align: right;\">\n",
       "      <th>text</th>\n",
       "      <th>target</th>\n",
       "    </tr>\n",
       "  </thead>\n",
       "  <tbody>\n",
       "    <tr>\n",
       "      <td>xxbos @united xxup where xxup is xxup my xxup fucking xxup bag ? ! ? ! xxmaj where the fuck is my fucking bag ? ? ? xxup tell xxup me xxup now xxup or xxup give xxup me a xxup number xxup to xxup call a xxup human . xxup xxunk m</td>\n",
       "      <td>negative</td>\n",
       "    </tr>\n",
       "    <tr>\n",
       "      <td>xxbos @usairways xxup plans xxup changed ! xxup is xxup that xxup what u xxup call xxup not xxup bein xxup able 2 xxup park xxup on xxup time xxup planes w a 2 xxup hr xxup layover n b xxup able 2 xxup make xxup ur xxup connection ! # seriously</td>\n",
       "      <td>negative</td>\n",
       "    </tr>\n",
       "    <tr>\n",
       "      <td>xxbos @united xxmaj hi , i m flying xxup sfo - xxup lax - xxup xxunk - xxup xxunk . xxmaj my connecting time in xxup lax is xxunk m . xxmaj is it enough time ? xxmaj do i have to collect my bag and xxunk on xxup xxunk ?</td>\n",
       "      <td>neutral</td>\n",
       "    </tr>\n",
       "    <tr>\n",
       "      <td>xxbos @southwestair i had to travel to xxmaj savannah , xxup ga , once again , on an airline i do n't \" xxmaj luv \" . xxmaj when r u going to fly me to xxmaj savannah ? xxmaj pl xxrep 4 e ase xxrep 4 !</td>\n",
       "      <td>neutral</td>\n",
       "    </tr>\n",
       "    <tr>\n",
       "      <td>xxbos xxup @usairways xxup are xxup you xxup kidding xxup me ? ? xxmaj bad customer service , folks . xxmaj flew from xxup psp to xxup phx flight xxunk on 2 / 19 . ( cont ) http : / / t.co / xxunk</td>\n",
       "      <td>negative</td>\n",
       "    </tr>\n",
       "  </tbody>\n",
       "</table>"
      ],
      "text/plain": [
       "<IPython.core.display.HTML object>"
      ]
     },
     "metadata": {},
     "output_type": "display_data"
    }
   ],
   "source": [
    "data_clas.show_batch()"
   ]
  },
  {
   "cell_type": "code",
   "execution_count": 7,
   "metadata": {},
   "outputs": [],
   "source": [
    "#Temporary Saving\n",
    "data_lm.save('data_lm_export.pkl')\n",
    "data_clas.save('data_clas_export.pkl')"
   ]
  },
  {
   "cell_type": "code",
   "execution_count": 8,
   "metadata": {},
   "outputs": [],
   "source": [
    "#File Loading\n",
    "#data_lm= TextLMDataBunch.load(path,'data_lm_export.pkl')\n",
    "#data_clas= TextClasDataBunch.load(path,'data_clas_export.pkl', bs=16)"
   ]
  },
  {
   "cell_type": "markdown",
   "metadata": {},
   "source": [
    "**Language Model Training**"
   ]
  },
  {
   "cell_type": "code",
   "execution_count": 9,
   "metadata": {},
   "outputs": [],
   "source": [
    "#language model training begin\n",
    "lg_model = language_model_learner(data_lm, \n",
    "                                  AWD_LSTM, #Load pre trained language model (AWD_LSTM)\n",
    "                                  drop_mult=0.5) #Regularisation hyperparameter -> drop_mult"
   ]
  },
  {
   "cell_type": "code",
   "execution_count": 10,
   "metadata": {},
   "outputs": [
    {
     "data": {
      "text/html": [
       "<table border=\"1\" class=\"dataframe\">\n",
       "  <thead>\n",
       "    <tr style=\"text-align: left;\">\n",
       "      <th>epoch</th>\n",
       "      <th>train_loss</th>\n",
       "      <th>valid_loss</th>\n",
       "      <th>accuracy</th>\n",
       "      <th>time</th>\n",
       "    </tr>\n",
       "  </thead>\n",
       "  <tbody>\n",
       "    <tr>\n",
       "      <td>0</td>\n",
       "      <td>4.770963</td>\n",
       "      <td>4.102121</td>\n",
       "      <td>0.247001</td>\n",
       "      <td>00:08</td>\n",
       "    </tr>\n",
       "  </tbody>\n",
       "</table>"
      ],
      "text/plain": [
       "<IPython.core.display.HTML object>"
      ]
     },
     "metadata": {},
     "output_type": "display_data"
    }
   ],
   "source": [
    "#language model training one cycle \n",
    "lg_model.fit_one_cycle(1, 1e-2, moms=(0.8,0.7)) #Momentums parameter. # Fine tuning last layers"
   ]
  },
  {
   "cell_type": "code",
   "execution_count": 11,
   "metadata": {},
   "outputs": [
    {
     "data": {
      "text/html": [
       "<table border=\"1\" class=\"dataframe\">\n",
       "  <thead>\n",
       "    <tr style=\"text-align: left;\">\n",
       "      <th>epoch</th>\n",
       "      <th>train_loss</th>\n",
       "      <th>valid_loss</th>\n",
       "      <th>accuracy</th>\n",
       "      <th>time</th>\n",
       "    </tr>\n",
       "  </thead>\n",
       "  <tbody>\n",
       "    <tr>\n",
       "      <td>0</td>\n",
       "      <td>4.107467</td>\n",
       "      <td>3.969019</td>\n",
       "      <td>0.262333</td>\n",
       "      <td>00:08</td>\n",
       "    </tr>\n",
       "    <tr>\n",
       "      <td>1</td>\n",
       "      <td>3.972996</td>\n",
       "      <td>3.837486</td>\n",
       "      <td>0.278223</td>\n",
       "      <td>00:08</td>\n",
       "    </tr>\n",
       "    <tr>\n",
       "      <td>2</td>\n",
       "      <td>3.838884</td>\n",
       "      <td>3.752552</td>\n",
       "      <td>0.285910</td>\n",
       "      <td>00:08</td>\n",
       "    </tr>\n",
       "    <tr>\n",
       "      <td>3</td>\n",
       "      <td>3.688128</td>\n",
       "      <td>3.700768</td>\n",
       "      <td>0.290988</td>\n",
       "      <td>00:08</td>\n",
       "    </tr>\n",
       "    <tr>\n",
       "      <td>4</td>\n",
       "      <td>3.539448</td>\n",
       "      <td>3.671666</td>\n",
       "      <td>0.293094</td>\n",
       "      <td>00:08</td>\n",
       "    </tr>\n",
       "    <tr>\n",
       "      <td>5</td>\n",
       "      <td>3.403737</td>\n",
       "      <td>3.668800</td>\n",
       "      <td>0.294462</td>\n",
       "      <td>00:08</td>\n",
       "    </tr>\n",
       "    <tr>\n",
       "      <td>6</td>\n",
       "      <td>3.258820</td>\n",
       "      <td>3.669709</td>\n",
       "      <td>0.295368</td>\n",
       "      <td>00:08</td>\n",
       "    </tr>\n",
       "    <tr>\n",
       "      <td>7</td>\n",
       "      <td>3.139406</td>\n",
       "      <td>3.685788</td>\n",
       "      <td>0.294894</td>\n",
       "      <td>00:08</td>\n",
       "    </tr>\n",
       "    <tr>\n",
       "      <td>8</td>\n",
       "      <td>3.053149</td>\n",
       "      <td>3.691401</td>\n",
       "      <td>0.295717</td>\n",
       "      <td>00:08</td>\n",
       "    </tr>\n",
       "    <tr>\n",
       "      <td>9</td>\n",
       "      <td>3.007323</td>\n",
       "      <td>3.701177</td>\n",
       "      <td>0.294448</td>\n",
       "      <td>00:08</td>\n",
       "    </tr>\n",
       "    <tr>\n",
       "      <td>10</td>\n",
       "      <td>2.974306</td>\n",
       "      <td>3.700552</td>\n",
       "      <td>0.294810</td>\n",
       "      <td>00:08</td>\n",
       "    </tr>\n",
       "  </tbody>\n",
       "</table>"
      ],
      "text/plain": [
       "<IPython.core.display.HTML object>"
      ]
     },
     "metadata": {},
     "output_type": "display_data"
    }
   ],
   "source": [
    "#Unfreezing the NN to train entire network\n",
    "lg_model.unfreeze()\n",
    "lg_model.fit_one_cycle(11, 1e-3)"
   ]
  },
  {
   "cell_type": "code",
   "execution_count": 12,
   "metadata": {},
   "outputs": [
    {
     "name": "stdout",
     "output_type": "stream",
     "text": [
      "Todays flight was Cancelled Flightled / delayed . Thanks for the premium pricing . When will you always offer\n"
     ]
    }
   ],
   "source": [
    "#Language Model Inference testing \n",
    "tw_samp = str(lg_model.predict(\"Todays flight was\", n_words=20))\n",
    "print(tw_samp)"
   ]
  },
  {
   "cell_type": "markdown",
   "metadata": {},
   "source": [
    "**Saving Language Model for Teansfer Learning**"
   ]
  },
  {
   "cell_type": "code",
   "execution_count": 13,
   "metadata": {},
   "outputs": [],
   "source": [
    "lg_model.save_encoder('lg_enc') #Saving encoder which deals with sentence understanding\n",
    "\n",
    "#End of language moodel training "
   ]
  },
  {
   "cell_type": "markdown",
   "metadata": {},
   "source": [
    "**Sentiment Classifier Model Training using Transfer Learning(ULMFiT)**"
   ]
  },
  {
   "cell_type": "code",
   "execution_count": 14,
   "metadata": {},
   "outputs": [
    {
     "data": {
      "text/html": [
       "<table border=\"1\" class=\"dataframe\">\n",
       "  <thead>\n",
       "    <tr style=\"text-align: right;\">\n",
       "      <th>text</th>\n",
       "      <th>target</th>\n",
       "    </tr>\n",
       "  </thead>\n",
       "  <tbody>\n",
       "    <tr>\n",
       "      <td>xxbos @united xxup where xxup is xxup my xxup fucking xxup bag ? ! ? ! xxmaj where the fuck is my fucking bag ? ? ? xxup tell xxup me xxup now xxup or xxup give xxup me a xxup number xxup to xxup call a xxup human . xxup xxunk m</td>\n",
       "      <td>negative</td>\n",
       "    </tr>\n",
       "    <tr>\n",
       "      <td>xxbos @usairways xxup fuk u xxup us xxup airways xxup with xxup yo xxup shitty xxup chicken xxup xxunk xxup sandwich xxup that xxup so xxup overpriced xxup and u xxup xxunk xxup make xxup me xxup wait xxup in a 6 xxup hr xxup layover xxup fuk u xxup and</td>\n",
       "      <td>negative</td>\n",
       "    </tr>\n",
       "    <tr>\n",
       "      <td>xxbos @usairways xxup you xxup are xxup amazing ! ! ! xxup you xxup are xxup the xxup best ! ! ! xxup follow xxup me xxup please xxup and i xxup follow xxup you xxup xxunk 🙏 🙏 🙏 ✌ ️ 😉 )</td>\n",
       "      <td>positive</td>\n",
       "    </tr>\n",
       "    <tr>\n",
       "      <td>xxbos @usairways i need help . xxmaj in air on # xxunk to xxup clt from xxup phl . xxmaj conf : xxup xxunk xxmaj need confirmed on # 1776 to xxup bna at 10:30 . xxmaj been bumped all day , need home</td>\n",
       "      <td>negative</td>\n",
       "    </tr>\n",
       "    <tr>\n",
       "      <td>xxbos @jetblue big shoutout to the crews on xxunk xxmaj bos &gt; jfk &amp; &amp; xxunk jfk &gt; roc , &amp; &amp; gate crews at c19 xxmaj bos &amp; &amp; 6 jfk . xxmaj long day of delays made better by them !</td>\n",
       "      <td>positive</td>\n",
       "    </tr>\n",
       "  </tbody>\n",
       "</table>"
      ],
      "text/plain": [
       "<IPython.core.display.HTML object>"
      ]
     },
     "metadata": {},
     "output_type": "display_data"
    }
   ],
   "source": [
    "sent_classfr = text_classifier_learner(data_clas, AWD_LSTM, drop_mult=0.6) \n",
    "sent_classfr.load_encoder('lg_enc') #Loading language model encoder to sentiment classifier\n",
    "data_clas.show_batch()"
   ]
  },
  {
   "cell_type": "code",
   "execution_count": 15,
   "metadata": {},
   "outputs": [
    {
     "data": {
      "text/html": [
       "<table border=\"1\" class=\"dataframe\">\n",
       "  <thead>\n",
       "    <tr style=\"text-align: left;\">\n",
       "      <th>epoch</th>\n",
       "      <th>train_loss</th>\n",
       "      <th>valid_loss</th>\n",
       "      <th>accuracy</th>\n",
       "      <th>time</th>\n",
       "    </tr>\n",
       "  </thead>\n",
       "  <tbody>\n",
       "    <tr>\n",
       "      <td>0</td>\n",
       "      <td>0.653466</td>\n",
       "      <td>0.538839</td>\n",
       "      <td>0.778347</td>\n",
       "      <td>00:12</td>\n",
       "    </tr>\n",
       "  </tbody>\n",
       "</table>"
      ],
      "text/plain": [
       "<IPython.core.display.HTML object>"
      ]
     },
     "metadata": {},
     "output_type": "display_data"
    }
   ],
   "source": [
    "#model training one cycle on last layer\n",
    "sent_classfr.fit_one_cycle(1, 1e-2)"
   ]
  },
  {
   "cell_type": "code",
   "execution_count": 19,
   "metadata": {},
   "outputs": [
    {
     "data": {
      "text/html": [
       "<table border=\"1\" class=\"dataframe\">\n",
       "  <thead>\n",
       "    <tr style=\"text-align: left;\">\n",
       "      <th>epoch</th>\n",
       "      <th>train_loss</th>\n",
       "      <th>valid_loss</th>\n",
       "      <th>accuracy</th>\n",
       "      <th>time</th>\n",
       "    </tr>\n",
       "  </thead>\n",
       "  <tbody>\n",
       "    <tr>\n",
       "      <td>0</td>\n",
       "      <td>0.480178</td>\n",
       "      <td>0.439959</td>\n",
       "      <td>0.826844</td>\n",
       "      <td>00:13</td>\n",
       "    </tr>\n",
       "  </tbody>\n",
       "</table>"
      ],
      "text/plain": [
       "<IPython.core.display.HTML object>"
      ]
     },
     "metadata": {},
     "output_type": "display_data"
    }
   ],
   "source": [
    "#model training one cycle on intermediate layer\n",
    "#sent_classfr.freeze_to(-4)\n",
    "sent_classfr.freeze_to(-3)\n",
    "sent_classfr.fit_one_cycle(1, slice(5e-3/2., 5e-3), moms=(0.8,0.7))"
   ]
  },
  {
   "cell_type": "code",
   "execution_count": 20,
   "metadata": {},
   "outputs": [
    {
     "data": {
      "text/html": [
       "<table border=\"1\" class=\"dataframe\">\n",
       "  <thead>\n",
       "    <tr style=\"text-align: left;\">\n",
       "      <th>epoch</th>\n",
       "      <th>train_loss</th>\n",
       "      <th>valid_loss</th>\n",
       "      <th>accuracy</th>\n",
       "      <th>time</th>\n",
       "    </tr>\n",
       "  </thead>\n",
       "  <tbody>\n",
       "    <tr>\n",
       "      <td>0</td>\n",
       "      <td>0.421912</td>\n",
       "      <td>0.441979</td>\n",
       "      <td>0.826503</td>\n",
       "      <td>00:14</td>\n",
       "    </tr>\n",
       "    <tr>\n",
       "      <td>1</td>\n",
       "      <td>0.393198</td>\n",
       "      <td>0.452379</td>\n",
       "      <td>0.829235</td>\n",
       "      <td>00:14</td>\n",
       "    </tr>\n",
       "    <tr>\n",
       "      <td>2</td>\n",
       "      <td>0.345959</td>\n",
       "      <td>0.449368</td>\n",
       "      <td>0.833675</td>\n",
       "      <td>00:14</td>\n",
       "    </tr>\n",
       "    <tr>\n",
       "      <td>3</td>\n",
       "      <td>0.330748</td>\n",
       "      <td>0.449088</td>\n",
       "      <td>0.832309</td>\n",
       "      <td>00:14</td>\n",
       "    </tr>\n",
       "    <tr>\n",
       "      <td>4</td>\n",
       "      <td>0.277881</td>\n",
       "      <td>0.456006</td>\n",
       "      <td>0.829576</td>\n",
       "      <td>00:15</td>\n",
       "    </tr>\n",
       "    <tr>\n",
       "      <td>5</td>\n",
       "      <td>0.274784</td>\n",
       "      <td>0.459064</td>\n",
       "      <td>0.830943</td>\n",
       "      <td>00:14</td>\n",
       "    </tr>\n",
       "  </tbody>\n",
       "</table>"
      ],
      "text/plain": [
       "<IPython.core.display.HTML object>"
      ]
     },
     "metadata": {},
     "output_type": "display_data"
    }
   ],
   "source": [
    "#Unfreezing the NN to train entire network\n",
    "sent_classfr.unfreeze()\n",
    "sent_classfr.fit_one_cycle(6, slice(2e-3/100, 2e-3))\n",
    "\n",
    "#End of Model training Step3"
   ]
  },
  {
   "cell_type": "markdown",
   "metadata": {},
   "source": [
    "**Model Performance Results**"
   ]
  },
  {
   "cell_type": "code",
   "execution_count": 21,
   "metadata": {},
   "outputs": [
    {
     "name": "stdout",
     "output_type": "stream",
     "text": [
      "Todays flight was Cancelled Flightled / delayed . Thanks for the premium pricing . When will you always offer\n",
      "(Category negative, tensor(0), tensor([0.9486, 0.0347, 0.0166]))\n"
     ]
    },
    {
     "data": {
      "text/html": [],
      "text/plain": [
       "<IPython.core.display.HTML object>"
      ]
     },
     "metadata": {},
     "output_type": "display_data"
    },
    {
     "name": "stdout",
     "output_type": "stream",
     "text": [
      "Accuracy: 0.831\n"
     ]
    },
    {
     "data": {
      "text/plain": [
       "Text(0.5, 1.0, 'Classification Confusion Matrix')"
      ]
     },
     "execution_count": 21,
     "metadata": {},
     "output_type": "execute_result"
    },
    {
     "data": {
      "image/png": "[encoded data removed]",
      "text/plain": [
       "<Figure size 432x288 with 1 Axes>"
      ]
     },
     "metadata": {
      "needs_background": "light"
     },
     "output_type": "display_data"
    }
   ],
   "source": [
    "# Step 4 Results \n",
    "model = sent_classfr\n",
    "print(tw_samp)\n",
    "print(model.predict(tw_samp))\n",
    "\n",
    "interp = TextClassificationInterpretation.from_learner(model)\n",
    "acc = accuracy(interp.preds, interp.y_true)\n",
    "print('Accuracy: {0:.3f}'.format(acc))\n",
    "\n",
    "interp.plot_confusion_matrix()\n",
    "plt.title('Classification Confusion Matrix')"
   ]
  },
  {
   "cell_type": "code",
   "execution_count": null,
   "metadata": {},
   "outputs": [],
   "source": []
  },
  {
   "cell_type": "code",
   "execution_count": null,
   "metadata": {},
   "outputs": [],
   "source": []
  }
 ],
 "metadata": {
  "environment": {
   "name": "pytorch-gpu.1-4.m46",
   "type": "gcloud",
   "uri": "gcr.io/deeplearning-platform-release/pytorch-gpu.1-4:m46"
  },
  "kernelspec": {
   "display_name": "Python 3",
   "language": "python",
   "name": "python3"
  },
  "language_info": {
   "codemirror_mode": {
    "name": "ipython",
    "version": 3
   },
   "file_extension": ".py",
   "mimetype": "text/x-python",
   "name": "python",
   "nbconvert_exporter": "python",
   "pygments_lexer": "ipython3",
   "version": "3.7.6"
  }
 },
 "nbformat": 4,
 "nbformat_minor": 4
}
